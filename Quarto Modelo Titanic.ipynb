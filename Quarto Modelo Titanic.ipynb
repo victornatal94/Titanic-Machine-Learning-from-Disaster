{
 "cells": [
  {
   "cell_type": "markdown",
   "id": "2d0517a3",
   "metadata": {},
   "source": [
    "# Titanic - Machine Learning from Disaster\n",
    "\n",
    "## Quarto modelo com Logistic Regression"
   ]
  },
  {
   "cell_type": "code",
   "execution_count": 1,
   "id": "07e683b2",
   "metadata": {},
   "outputs": [
    {
     "name": "stdout",
     "output_type": "stream",
     "text": [
      "Populating the interactive namespace from numpy and matplotlib\n"
     ]
    }
   ],
   "source": [
    "import pandas as pd\n",
    "import numpy as np\n",
    "%matplotlib inline\n",
    "%pylab inline\n",
    "from sklearn.linear_model import LogisticRegression\n",
    "from sklearn.model_selection import RepeatedKFold"
   ]
  },
  {
   "cell_type": "code",
   "execution_count": 2,
   "id": "bd8bf104",
   "metadata": {},
   "outputs": [],
   "source": [
    "def sexo_binario(valor):\n",
    "    if valor == 'female':\n",
    "        return 1\n",
    "    else:\n",
    "        return 0"
   ]
  },
  {
   "cell_type": "code",
   "execution_count": 3,
   "id": "09e1b538",
   "metadata": {},
   "outputs": [],
   "source": [
    "train = pd.read_csv('train.csv')\n",
    "test = pd.read_csv('test.csv')\n",
    "\n",
    "train['Sex_binario'] = train['Sex'].map(sexo_binario)\n",
    "test['Sex_binario'] = test['Sex'].map(sexo_binario)\n",
    "\n",
    "variaveis = ['Sex_binario', 'Age', 'Pclass', 'SibSp', 'Parch', 'Fare']\n",
    "X = train[variaveis].fillna(-1)\n",
    "y = train['Survived']"
   ]
  },
  {
   "cell_type": "code",
   "execution_count": 4,
   "id": "4b69b627",
   "metadata": {},
   "outputs": [
    {
     "data": {
      "text/html": [
       "<div>\n",
       "<style scoped>\n",
       "    .dataframe tbody tr th:only-of-type {\n",
       "        vertical-align: middle;\n",
       "    }\n",
       "\n",
       "    .dataframe tbody tr th {\n",
       "        vertical-align: top;\n",
       "    }\n",
       "\n",
       "    .dataframe thead th {\n",
       "        text-align: right;\n",
       "    }\n",
       "</style>\n",
       "<table border=\"1\" class=\"dataframe\">\n",
       "  <thead>\n",
       "    <tr style=\"text-align: right;\">\n",
       "      <th></th>\n",
       "      <th>PassengerId</th>\n",
       "      <th>Survived</th>\n",
       "      <th>Pclass</th>\n",
       "      <th>Name</th>\n",
       "      <th>Sex</th>\n",
       "      <th>Age</th>\n",
       "      <th>SibSp</th>\n",
       "      <th>Parch</th>\n",
       "      <th>Ticket</th>\n",
       "      <th>Fare</th>\n",
       "      <th>Cabin</th>\n",
       "      <th>Embarked</th>\n",
       "      <th>Sex_binario</th>\n",
       "    </tr>\n",
       "  </thead>\n",
       "  <tbody>\n",
       "    <tr>\n",
       "      <th>0</th>\n",
       "      <td>1</td>\n",
       "      <td>0</td>\n",
       "      <td>3</td>\n",
       "      <td>Braund, Mr. Owen Harris</td>\n",
       "      <td>male</td>\n",
       "      <td>22.0</td>\n",
       "      <td>1</td>\n",
       "      <td>0</td>\n",
       "      <td>A/5 21171</td>\n",
       "      <td>7.2500</td>\n",
       "      <td>NaN</td>\n",
       "      <td>S</td>\n",
       "      <td>0</td>\n",
       "    </tr>\n",
       "    <tr>\n",
       "      <th>1</th>\n",
       "      <td>2</td>\n",
       "      <td>1</td>\n",
       "      <td>1</td>\n",
       "      <td>Cumings, Mrs. John Bradley (Florence Briggs Th...</td>\n",
       "      <td>female</td>\n",
       "      <td>38.0</td>\n",
       "      <td>1</td>\n",
       "      <td>0</td>\n",
       "      <td>PC 17599</td>\n",
       "      <td>71.2833</td>\n",
       "      <td>C85</td>\n",
       "      <td>C</td>\n",
       "      <td>1</td>\n",
       "    </tr>\n",
       "    <tr>\n",
       "      <th>2</th>\n",
       "      <td>3</td>\n",
       "      <td>1</td>\n",
       "      <td>3</td>\n",
       "      <td>Heikkinen, Miss. Laina</td>\n",
       "      <td>female</td>\n",
       "      <td>26.0</td>\n",
       "      <td>0</td>\n",
       "      <td>0</td>\n",
       "      <td>STON/O2. 3101282</td>\n",
       "      <td>7.9250</td>\n",
       "      <td>NaN</td>\n",
       "      <td>S</td>\n",
       "      <td>1</td>\n",
       "    </tr>\n",
       "    <tr>\n",
       "      <th>3</th>\n",
       "      <td>4</td>\n",
       "      <td>1</td>\n",
       "      <td>1</td>\n",
       "      <td>Futrelle, Mrs. Jacques Heath (Lily May Peel)</td>\n",
       "      <td>female</td>\n",
       "      <td>35.0</td>\n",
       "      <td>1</td>\n",
       "      <td>0</td>\n",
       "      <td>113803</td>\n",
       "      <td>53.1000</td>\n",
       "      <td>C123</td>\n",
       "      <td>S</td>\n",
       "      <td>1</td>\n",
       "    </tr>\n",
       "    <tr>\n",
       "      <th>4</th>\n",
       "      <td>5</td>\n",
       "      <td>0</td>\n",
       "      <td>3</td>\n",
       "      <td>Allen, Mr. William Henry</td>\n",
       "      <td>male</td>\n",
       "      <td>35.0</td>\n",
       "      <td>0</td>\n",
       "      <td>0</td>\n",
       "      <td>373450</td>\n",
       "      <td>8.0500</td>\n",
       "      <td>NaN</td>\n",
       "      <td>S</td>\n",
       "      <td>0</td>\n",
       "    </tr>\n",
       "  </tbody>\n",
       "</table>\n",
       "</div>"
      ],
      "text/plain": [
       "   PassengerId  Survived  Pclass  \\\n",
       "0            1         0       3   \n",
       "1            2         1       1   \n",
       "2            3         1       3   \n",
       "3            4         1       1   \n",
       "4            5         0       3   \n",
       "\n",
       "                                                Name     Sex   Age  SibSp  \\\n",
       "0                            Braund, Mr. Owen Harris    male  22.0      1   \n",
       "1  Cumings, Mrs. John Bradley (Florence Briggs Th...  female  38.0      1   \n",
       "2                             Heikkinen, Miss. Laina  female  26.0      0   \n",
       "3       Futrelle, Mrs. Jacques Heath (Lily May Peel)  female  35.0      1   \n",
       "4                           Allen, Mr. William Henry    male  35.0      0   \n",
       "\n",
       "   Parch            Ticket     Fare Cabin Embarked  Sex_binario  \n",
       "0      0         A/5 21171   7.2500   NaN        S            0  \n",
       "1      0          PC 17599  71.2833   C85        C            1  \n",
       "2      0  STON/O2. 3101282   7.9250   NaN        S            1  \n",
       "3      0            113803  53.1000  C123        S            1  \n",
       "4      0            373450   8.0500   NaN        S            0  "
      ]
     },
     "execution_count": 4,
     "metadata": {},
     "output_type": "execute_result"
    }
   ],
   "source": [
    "train.head()"
   ]
  },
  {
   "cell_type": "markdown",
   "id": "8111f28a",
   "metadata": {},
   "source": [
    "#### Novas variáveis"
   ]
  },
  {
   "cell_type": "code",
   "execution_count": 5,
   "id": "30b5cf9f",
   "metadata": {},
   "outputs": [],
   "source": [
    "train['Embarked_S'] = (train['Embarked'] == 'S').astype(int)\n",
    "train['Embarked_C'] = (train['Embarked'] == 'C').astype(int)\n",
    "#train['Embarked_Q'] = (train['Embarked'] == 'Q').astype(int) - > Se não embarcou nas outras duas, teria sido nessa.\n",
    "\n",
    "train['Cabine_nula'] = train['Cabin'].isnull().astype(int)\n",
    "\n",
    "train['Nome_contem_Miss'] = train['Name'].str.contains('Miss').astype(int)\n",
    "train['Nome_contem_Mrs'] = train['Name'].str.contains('Mrs').astype(int)\n",
    "\n",
    "train['Nome_contem_Master'] = train['Name'].str.contains('Master').astype(int)\n",
    "train['Nome_contem_Col'] = train['Name'].str.contains('Col').astype(int)\n",
    "train['Nome_contem_Major'] = train['Name'].str.contains('Major').astype(int)\n",
    "train['Nome_contem_Mr'] = train['Name'].str.contains('Mr').astype(int)"
   ]
  },
  {
   "cell_type": "code",
   "execution_count": 6,
   "id": "e81c6e46",
   "metadata": {},
   "outputs": [
    {
     "data": {
      "text/plain": [
       "['Sex_binario', 'Age', 'Pclass', 'SibSp', 'Parch', 'Fare']"
      ]
     },
     "execution_count": 6,
     "metadata": {},
     "output_type": "execute_result"
    }
   ],
   "source": [
    "variaveis"
   ]
  },
  {
   "cell_type": "code",
   "execution_count": 7,
   "id": "e21897af",
   "metadata": {},
   "outputs": [],
   "source": [
    "variaveis = ['Sex_binario', 'Age', 'Pclass', 'SibSp', 'Parch', 'Fare', 'Embarked_S', 'Embarked_C',\n",
    "           'Cabine_nula', 'Nome_contem_Miss', 'Nome_contem_Mrs', 'Nome_contem_Master',\n",
    "            'Nome_contem_Col', 'Nome_contem_Major','Nome_contem_Mr']\n",
    "\n",
    "X = train[variaveis].fillna(-1)\n",
    "y = train['Survived']"
   ]
  },
  {
   "cell_type": "code",
   "execution_count": 8,
   "id": "77d89975",
   "metadata": {},
   "outputs": [
    {
     "name": "stdout",
     "output_type": "stream",
     "text": [
      "Treino:  445\n",
      "Valid:  446\n",
      "\n",
      "Acc:  0.8295964125560538\n",
      "\n",
      "Treino:  446\n",
      "Valid:  445\n",
      "\n",
      "Acc:  0.8089887640449438\n",
      "\n",
      "Treino:  445\n",
      "Valid:  446\n",
      "\n",
      "Acc:  0.8139013452914798\n",
      "\n",
      "Treino:  446\n",
      "Valid:  445\n",
      "\n",
      "Acc:  0.802247191011236\n",
      "\n",
      "Treino:  445\n",
      "Valid:  446\n",
      "\n",
      "Acc:  0.8161434977578476\n",
      "\n",
      "Treino:  446\n",
      "Valid:  445\n",
      "\n",
      "Acc:  0.8157303370786517\n",
      "\n",
      "Treino:  445\n",
      "Valid:  446\n",
      "\n",
      "Acc:  0.8139013452914798\n",
      "\n",
      "Treino:  446\n",
      "Valid:  445\n",
      "\n",
      "Acc:  0.8202247191011236\n",
      "\n",
      "Treino:  445\n",
      "Valid:  446\n",
      "\n",
      "Acc:  0.8183856502242153\n",
      "\n",
      "Treino:  446\n",
      "Valid:  445\n",
      "\n",
      "Acc:  0.8089887640449438\n",
      "\n",
      "Treino:  445\n",
      "Valid:  446\n",
      "\n",
      "Acc:  0.8251121076233184\n",
      "\n",
      "Treino:  446\n",
      "Valid:  445\n",
      "\n",
      "Acc:  0.8089887640449438\n",
      "\n",
      "Treino:  445\n",
      "Valid:  446\n",
      "\n",
      "Acc:  0.8385650224215246\n",
      "\n",
      "Treino:  446\n",
      "Valid:  445\n",
      "\n",
      "Acc:  0.8044943820224719\n",
      "\n",
      "Treino:  445\n",
      "Valid:  446\n",
      "\n",
      "Acc:  0.8116591928251121\n",
      "\n",
      "Treino:  446\n",
      "Valid:  445\n",
      "\n",
      "Acc:  0.8044943820224719\n",
      "\n",
      "Treino:  445\n",
      "Valid:  446\n",
      "\n",
      "Acc:  0.8363228699551569\n",
      "\n",
      "Treino:  446\n",
      "Valid:  445\n",
      "\n",
      "Acc:  0.8202247191011236\n",
      "\n",
      "Treino:  445\n",
      "Valid:  446\n",
      "\n",
      "Acc:  0.8318385650224215\n",
      "\n",
      "Treino:  446\n",
      "Valid:  445\n",
      "\n",
      "Acc:  0.8202247191011236\n",
      "\n"
     ]
    }
   ],
   "source": [
    "resultados = []\n",
    "kf = RepeatedKFold(n_splits=2, n_repeats=10, random_state=10)\n",
    "\n",
    "for linhas_treino, linhas_valid in kf.split(X):\n",
    "    print('Treino: ', linhas_treino.shape[0])\n",
    "    print('Valid: ', linhas_valid.shape[0])\n",
    "    print()\n",
    "    \n",
    "    X_treino, X_valid = X.iloc[linhas_treino], X.iloc[linhas_valid]\n",
    "    y_treino, y_valid = y.iloc[linhas_treino], y.iloc[linhas_valid]\n",
    "    \n",
    "    modelo = LogisticRegression(max_iter=1000)\n",
    "    modelo.fit(X_treino, y_treino)\n",
    "    \n",
    "    predict = modelo.predict(X_valid)\n",
    "    \n",
    "    acc = np.mean(y_valid == predict)\n",
    "    resultados.append(acc)\n",
    "    print('Acc: ', acc)\n",
    "    print()"
   ]
  },
  {
   "cell_type": "code",
   "execution_count": 9,
   "id": "3b50fbeb",
   "metadata": {},
   "outputs": [
    {
     "data": {
      "text/plain": [
       "(array([3., 3., 1., 4., 4., 0., 1., 1., 1., 2.]),\n",
       " array([0.80224719, 0.80587897, 0.80951076, 0.81314254, 0.81677432,\n",
       "        0.82040611, 0.82403789, 0.82766967, 0.83130146, 0.83493324,\n",
       "        0.83856502]),\n",
       " <BarContainer object of 10 artists>)"
      ]
     },
     "execution_count": 9,
     "metadata": {},
     "output_type": "execute_result"
    },
    {
     "data": {
      "image/png": "[encoded data removed]",
      "text/plain": [
       "<Figure size 432x288 with 1 Axes>"
      ]
     },
     "metadata": {
      "needs_background": "light"
     },
     "output_type": "display_data"
    }
   ],
   "source": [
    "pylab.hist(resultados)"
   ]
  },
  {
   "cell_type": "code",
   "execution_count": 10,
   "id": "b6651ee6",
   "metadata": {},
   "outputs": [
    {
     "data": {
      "text/plain": [
       "0.8175016375270822"
      ]
     },
     "execution_count": 10,
     "metadata": {},
     "output_type": "execute_result"
    }
   ],
   "source": [
    "np.mean(resultados)"
   ]
  },
  {
   "cell_type": "code",
   "execution_count": 11,
   "id": "fdf5f014",
   "metadata": {},
   "outputs": [],
   "source": [
    "test['Embarked_S'] = (test['Embarked'] == 'S').astype(int)\n",
    "test['Embarked_C'] = (test['Embarked'] == 'C').astype(int)\n",
    "#test['Embarked_Q'] = (test['Embarked'] == 'Q').astype(int) - > Se não embarcou nas outras duas, teria sido nessa.\n",
    "\n",
    "test['Cabine_nula'] = test['Cabin'].isnull().astype(int)\n",
    "\n",
    "test['Nome_contem_Miss'] = test['Name'].str.contains('Miss').astype(int)\n",
    "test['Nome_contem_Mrs'] = test['Name'].str.contains('Mrs').astype(int)\n",
    "\n",
    "test['Nome_contem_Master'] = test['Name'].str.contains('Master').astype(int)\n",
    "test['Nome_contem_Col'] = test['Name'].str.contains('Col').astype(int)\n",
    "test['Nome_contem_Major'] = test['Name'].str.contains('Major').astype(int)\n",
    "test['Nome_contem_Mr'] = test['Name'].str.contains('Mr').astype(int)\n",
    "\n",
    "modelo = LogisticRegression(max_iter=1000)\n",
    "modelo.fit(X, y)\n",
    "    \n",
    "predict = modelo.predict(test[variaveis].fillna(-1))"
   ]
  },
  {
   "cell_type": "code",
   "execution_count": 12,
   "id": "9bd4bfb8",
   "metadata": {},
   "outputs": [
    {
     "data": {
      "text/plain": [
       "418"
      ]
     },
     "execution_count": 12,
     "metadata": {},
     "output_type": "execute_result"
    }
   ],
   "source": [
    "# Criar Submission\n",
    "\n",
    "quarto_modelo = pd.Series(predict, index=test['PassengerId'], name='Survived')\n",
    "\n",
    "quarto_modelo.shape[0]"
   ]
  },
  {
   "cell_type": "code",
   "execution_count": 13,
   "id": "68825d0c",
   "metadata": {},
   "outputs": [
    {
     "data": {
      "text/plain": [
       "PassengerId\n",
       "892    0\n",
       "893    1\n",
       "894    0\n",
       "895    0\n",
       "896    1\n",
       "Name: Survived, dtype: int64"
      ]
     },
     "execution_count": 13,
     "metadata": {},
     "output_type": "execute_result"
    }
   ],
   "source": [
    "quarto_modelo.head()"
   ]
  },
  {
   "cell_type": "code",
   "execution_count": 14,
   "id": "d47ae25d",
   "metadata": {},
   "outputs": [],
   "source": [
    "quarto_modelo.to_csv('quarto_modelo.csv', header=True) "
   ]
  },
  {
   "cell_type": "code",
   "execution_count": null,
   "id": "6c1ee8e8",
   "metadata": {},
   "outputs": [],
   "source": []
  }
 ],
 "metadata": {
  "kernelspec": {
   "display_name": "Python 3",
   "language": "python",
   "name": "python3"
  },
  "language_info": {
   "codemirror_mode": {
    "name": "ipython",
    "version": 3
   },
   "file_extension": ".py",
   "mimetype": "text/x-python",
   "name": "python",
   "nbconvert_exporter": "python",
   "pygments_lexer": "ipython3",
   "version": "3.8.8"
  }
 },
 "nbformat": 4,
 "nbformat_minor": 5
}
